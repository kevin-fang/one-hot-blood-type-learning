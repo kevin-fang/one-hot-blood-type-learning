{
 "cells": [
  {
   "cell_type": "code",
   "execution_count": 1,
   "metadata": {},
   "outputs": [
    {
     "name": "stderr",
     "output_type": "stream",
     "text": [
      "/usr/local/lib/python2.7/dist-packages/h5py/__init__.py:36: FutureWarning: Conversion of the second argument of issubdtype from `float` to `np.floating` is deprecated. In future, it will be treated as `np.float64 == np.dtype(float).type`.\n",
      "  from ._conv import register_converters as _register_converters\n",
      "Using TensorFlow backend.\n"
     ]
    }
   ],
   "source": [
    "# Force Keras to use the CPU\n",
    "import os\n",
    "os.environ[\"CUDA_DEVICE_ORDER\"] = \"PCI_BUS_ID\"   # see issue #152\n",
    "os.environ[\"CUDA_VISIBLE_DEVICES\"] = \"\"\n",
    "\n",
    "# NOTE: This code block silences memory allocation warnings, which are empirically annoying.\n",
    "# It's a good idea to have it on regularly when you're making changes.\n",
    "import tensorflow as tf\n",
    "os.environ['TF_CPP_MIN_LOG_LEVEL'] = '3' \n",
    "\n",
    "# Our imports\n",
    "from keras.models import Sequential\n",
    "from keras.layers import Dense\n",
    "import sqlite3\n",
    "import pickle\n",
    "from datetime import datetime\n",
    "from keras import regularizers\n",
    "\n",
    "# old imports\n",
    "from sklearn.svm import LinearSVC\n",
    "from sklearn import preprocessing\n",
    "import numpy as np\n",
    "import pandas as pd\n",
    "from sklearn.model_selection import cross_val_score, train_test_split\n",
    "from sklearn.metrics import accuracy_score, confusion_matrix\n",
    "import collections"
   ]
  },
  {
   "cell_type": "code",
   "execution_count": 2,
   "metadata": {
    "collapsed": true
   },
   "outputs": [],
   "source": [
    "encoded = np.load(\"./npy_data/data_encoded_d.npy\")"
   ]
  },
  {
   "cell_type": "code",
   "execution_count": 3,
   "metadata": {
    "collapsed": true
   },
   "outputs": [],
   "source": [
    "blood_types = np.load('./npy_data/blood_types.npy')"
   ]
  },
  {
   "cell_type": "code",
   "execution_count": 8,
   "metadata": {},
   "outputs": [
    {
     "data": {
      "text/plain": [
       "array([49, 30])"
      ]
     },
     "execution_count": 8,
     "metadata": {},
     "output_type": "execute_result"
    }
   ],
   "source": [
    "np.bincount(blood_types)"
   ]
  },
  {
   "cell_type": "code",
   "execution_count": 9,
   "metadata": {
    "collapsed": true
   },
   "outputs": [],
   "source": [
    "X_train, X_test, y_train, y_test = train_test_split(encoded, blood_types, test_size=0.2)"
   ]
  },
  {
   "cell_type": "code",
   "execution_count": 10,
   "metadata": {},
   "outputs": [
    {
     "data": {
      "text/plain": [
       "(63, 25019446)"
      ]
     },
     "execution_count": 10,
     "metadata": {},
     "output_type": "execute_result"
    }
   ],
   "source": [
    "X_train.shape"
   ]
  },
  {
   "cell_type": "code",
   "execution_count": 27,
   "metadata": {
    "scrolled": false
   },
   "outputs": [
    {
     "data": {
      "text/plain": [
       "array([27, 21])"
      ]
     },
     "execution_count": 27,
     "metadata": {},
     "output_type": "execute_result"
    }
   ],
   "source": [
    "np.bincount(y_train)"
   ]
  },
  {
   "cell_type": "code",
   "execution_count": 28,
   "metadata": {
    "scrolled": true
   },
   "outputs": [],
   "source": [
    "model = Sequential()\n",
    "model.add(Dense(10, input_shape=(encoded.shape[1],), kernel_initializer='uniform', activation='relu'))\n",
    "model.add(Dense(5, kernel_initializer='uniform', activation='relu'))\n",
    "model.add(Dense(5, kernel_initializer='uniform', activation='relu'))\n",
    "model.add(Dense(1, kernel_initializer='uniform', activation='sigmoid'))"
   ]
  },
  {
   "cell_type": "code",
   "execution_count": 30,
   "metadata": {},
   "outputs": [
    {
     "name": "stdout",
     "output_type": "stream",
     "text": [
      "_________________________________________________________________\n",
      "Layer (type)                 Output Shape              Param #   \n",
      "=================================================================\n",
      "dense_5 (Dense)              (None, 10)                250194470 \n",
      "_________________________________________________________________\n",
      "dense_6 (Dense)              (None, 5)                 55        \n",
      "_________________________________________________________________\n",
      "dense_7 (Dense)              (None, 5)                 30        \n",
      "_________________________________________________________________\n",
      "dense_8 (Dense)              (None, 1)                 6         \n",
      "=================================================================\n",
      "Total params: 250,194,561\n",
      "Trainable params: 250,194,561\n",
      "Non-trainable params: 0\n",
      "_________________________________________________________________\n",
      "None\n"
     ]
    }
   ],
   "source": [
    "print(model.summary())"
   ]
  },
  {
   "cell_type": "code",
   "execution_count": 33,
   "metadata": {},
   "outputs": [],
   "source": [
    "from keras import optimizers\n",
    "model.compile(loss='binary_crossentropy', optimizer=optimizers.adam(lr=0.001), metrics=['accuracy'])"
   ]
  },
  {
   "cell_type": "code",
   "execution_count": 34,
   "metadata": {
    "scrolled": true
   },
   "outputs": [],
   "source": [
    "zeros = np.argwhere(blood_types == 0)[:30]\n",
    "ones = np.argwhere(blood_types == 1)[:30]\n",
    "keep_idx = np.concatenate((zeros, ones))\n",
    "np.random.shuffle(keep_idx)"
   ]
  },
  {
   "cell_type": "code",
   "execution_count": 35,
   "metadata": {},
   "outputs": [],
   "source": [
    "blood_keep = blood_types[keep_idx]\n",
    "encoded_keep = encoded[keep_idx]"
   ]
  },
  {
   "cell_type": "code",
   "execution_count": 36,
   "metadata": {
    "collapsed": true
   },
   "outputs": [],
   "source": [
    "encoded_keep = encoded_keep.ravel().reshape(60, 25019446)"
   ]
  },
  {
   "cell_type": "code",
   "execution_count": 37,
   "metadata": {},
   "outputs": [],
   "source": [
    "blood_keep = np.reshape(blood_keep, len(blood_keep))"
   ]
  },
  {
   "cell_type": "code",
   "execution_count": 38,
   "metadata": {},
   "outputs": [],
   "source": [
    "X_train, X_test, y_train, y_test = train_test_split(encoded_keep, blood_keep, test_size=0.2)"
   ]
  },
  {
   "cell_type": "code",
   "execution_count": null,
   "metadata": {
    "scrolled": true
   },
   "outputs": [
    {
     "data": {
      "text/plain": [
       "array([0, 1, 1, 1, 0, 1, 1, 1, 1, 0, 0, 1])"
      ]
     },
     "execution_count": 39,
     "metadata": {},
     "output_type": "execute_result"
    }
   ],
   "source": [
    "y_test"
   ]
  },
  {
   "cell_type": "code",
   "execution_count": null,
   "metadata": {
    "scrolled": false
   },
   "outputs": [
    {
     "name": "stdout",
     "output_type": "stream",
     "text": [
      "Train on 48 samples, validate on 12 samples\n",
      "Epoch 1/50\n",
      "48/48 [==============================] - 57s 1s/step - loss: 7.3875 - acc: 0.5417 - val_loss: 10.7454 - val_acc: 0.3333\n",
      "Epoch 2/50\n",
      "48/48 [==============================] - 41s 857ms/step - loss: 7.3875 - acc: 0.5417 - val_loss: 10.7454 - val_acc: 0.3333\n",
      "Epoch 3/50\n",
      "48/48 [==============================] - 41s 864ms/step - loss: 7.3875 - acc: 0.5417 - val_loss: 10.7454 - val_acc: 0.3333\n",
      "Epoch 4/50\n",
      "48/48 [==============================] - 40s 830ms/step - loss: 7.3875 - acc: 0.5417 - val_loss: 10.7454 - val_acc: 0.3333\n",
      "Epoch 5/50\n",
      "48/48 [==============================] - 40s 840ms/step - loss: 7.3875 - acc: 0.5417 - val_loss: 10.7454 - val_acc: 0.3333\n",
      "Epoch 6/50\n",
      "48/48 [==============================] - 41s 849ms/step - loss: 7.3875 - acc: 0.5417 - val_loss: 10.7454 - val_acc: 0.3333\n",
      "Epoch 7/50\n",
      "48/48 [==============================] - 40s 840ms/step - loss: 7.3875 - acc: 0.5417 - val_loss: 10.7454 - val_acc: 0.3333\n",
      "Epoch 8/50\n",
      "48/48 [==============================] - 41s 845ms/step - loss: 7.3875 - acc: 0.5417 - val_loss: 10.7454 - val_acc: 0.3333\n",
      "Epoch 9/50\n",
      "48/48 [==============================] - 39s 818ms/step - loss: 7.3875 - acc: 0.5417 - val_loss: 10.7454 - val_acc: 0.3333\n",
      "Epoch 10/50\n",
      "48/48 [==============================] - 40s 843ms/step - loss: 7.3875 - acc: 0.5417 - val_loss: 10.7454 - val_acc: 0.3333\n",
      "Epoch 11/50\n",
      "48/48 [==============================] - 40s 827ms/step - loss: 7.3875 - acc: 0.5417 - val_loss: 10.7454 - val_acc: 0.3333\n",
      "Epoch 12/50\n",
      "48/48 [==============================] - 41s 858ms/step - loss: 7.3875 - acc: 0.5417 - val_loss: 10.7454 - val_acc: 0.3333\n",
      "Epoch 13/50\n",
      "40/48 [========================>.....] - ETA: 5s - loss: 7.6561 - acc: 0.5250 "
     ]
    }
   ],
   "source": [
    "history = model.fit(X_train, \n",
    "                     y_train, \n",
    "                     validation_data=(X_test, y_test),\n",
    "                     epochs = 50, \n",
    "                     batch_size = 10,\n",
    "                     verbose = 1)"
   ]
  },
  {
   "cell_type": "code",
   "execution_count": null,
   "metadata": {
    "scrolled": true
   },
   "outputs": [],
   "source": [
    "model.predict(X_test)"
   ]
  },
  {
   "cell_type": "code",
   "execution_count": null,
   "metadata": {
    "collapsed": true
   },
   "outputs": [],
   "source": []
  }
 ],
 "metadata": {
  "kernelspec": {
   "display_name": "Python 2",
   "language": "python",
   "name": "python2"
  },
  "language_info": {
   "codemirror_mode": {
    "name": "ipython",
    "version": 2
   },
   "file_extension": ".py",
   "mimetype": "text/x-python",
   "name": "python",
   "nbconvert_exporter": "python",
   "pygments_lexer": "ipython2",
   "version": "2.7.12"
  }
 },
 "nbformat": 4,
 "nbformat_minor": 2
}
