{
 "cells": [
  {
   "cell_type": "code",
   "execution_count": 6,
   "metadata": {},
   "outputs": [
    {
     "name": "stdout",
     "output_type": "stream",
     "text": [
      "('Path:', 12099719)\n",
      "http://gnomad.broadinstitute.org/region/9-136139786-136140011\n",
      "('Varval: ', 0.0)\n"
     ]
    }
   ],
   "source": [
    "idx = 14151618\n",
    "import numpy as np\n",
    "varvals = np.load('./npy_data/varvals_d.npy')\n",
    "oldpath = np.load('./npy_data/old_path_d.npy')\n",
    "val = varvals[idx] - 2\n",
    "#print(val)\n",
    "path = oldpath[idx]\n",
    "print(\"Path:\", path)\n",
    "with open('./tile-searcher/output/{}.txt'.format(path)) as f:\n",
    "    tile_info = f.read()\n",
    "\n",
    "tile_info = tile_info.split('\\n')\n",
    "first, second = tile_info[5:7]\n",
    "first, second = first.split('\\t '), second.split('\\t ')\n",
    "print('http://gnomad.broadinstitute.org/region/9-{}-{}'.format(first[1], second[1]))\n",
    "print(\"Varval: \", val)"
   ]
  },
  {
   "cell_type": "code",
   "execution_count": 87,
   "metadata": {},
   "outputs": [
    {
     "name": "stdout",
     "output_type": "stream",
     "text": [
      "Variant diffs:\n",
      "Position on chromosome: 71, index of diff: 136139833\n",
      "Position range on chromosome: 148-155, index range: 136139910-136139917\n",
      "Position on chromosome: 193, index of diff: 136139955\n",
      "Position range on chromosome: 247-896, index range: 136140009-136140658\n",
      "\n"
     ]
    }
   ],
   "source": [
    "start_of_var = -1\n",
    "for i, item in enumerate(tile_info):\n",
    "    if \"Variant diffs:\" in item:\n",
    "        print(\"\\n\".join(tile_info[i:]))\n",
    "        start_of_var = i"
   ]
  },
  {
   "cell_type": "code",
   "execution_count": null,
   "metadata": {
    "collapsed": true
   },
   "outputs": [],
   "source": []
  }
 ],
 "metadata": {
  "kernelspec": {
   "display_name": "Python 2",
   "language": "python",
   "name": "python2"
  },
  "language_info": {
   "codemirror_mode": {
    "name": "ipython",
    "version": 2
   },
   "file_extension": ".py",
   "mimetype": "text/x-python",
   "name": "python",
   "nbconvert_exporter": "python",
   "pygments_lexer": "ipython2",
   "version": "2.7.12"
  }
 },
 "nbformat": 4,
 "nbformat_minor": 2
}
