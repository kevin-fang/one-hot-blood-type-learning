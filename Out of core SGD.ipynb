{
 "cells": [
  {
   "cell_type": "code",
   "execution_count": 1,
   "metadata": {
    "collapsed": true
   },
   "outputs": [],
   "source": [
    "from sklearn import preprocessing\n",
    "import numpy as np\n",
    "import pandas as pd\n",
    "from sklearn.model_selection import cross_val_score, train_test_split\n",
    "from sklearn.metrics import accuracy_score, confusion_matrix\n",
    "import matplotlib.pyplot as plt\n",
    "%matplotlib inline\n",
    "import collections\n",
    "from sklearn.linear_model import SGDClassifier\n",
    "from sklearn.svm import LinearSVC\n",
    "import sklearn"
   ]
  },
  {
   "cell_type": "code",
   "execution_count": 2,
   "metadata": {
    "collapsed": true
   },
   "outputs": [],
   "source": [
    "def printCoefs(classifier):\n",
    "    # retrieve all the nonzero coefficients and zip them with their respective indices\n",
    "    nonzeroes = np.nonzero(classifier.coef_[0])[0]\n",
    "    coefs = zip(nonzeroes, classifier.coef_[0][nonzeroes])\n",
    "\n",
    "    # sort the coefficients by their value, instead of index\n",
    "    coefs.sort(key = lambda x: x[1], reverse=True)\n",
    "\n",
    "    for coef in coefs[:50]:\n",
    "        print coef"
   ]
  },
  {
   "cell_type": "code",
   "execution_count": 3,
   "metadata": {
    "collapsed": true
   },
   "outputs": [],
   "source": [
    "encoded = np.load(\"./npy_data/data_encoded_d.npy\")"
   ]
  },
  {
   "cell_type": "code",
   "execution_count": 4,
   "metadata": {
    "collapsed": true
   },
   "outputs": [],
   "source": [
    "blood_types = np.load('./npy_data/blood_types.npy')"
   ]
  },
  {
   "cell_type": "code",
   "execution_count": 5,
   "metadata": {},
   "outputs": [],
   "source": [
    "X_train, X_test, y_train, y_test = train_test_split(encoded, blood_types, test_size=0.2, random_state=2)"
   ]
  },
  {
   "cell_type": "code",
   "execution_count": 69,
   "metadata": {
    "collapsed": true
   },
   "outputs": [],
   "source": [
    "sgd = SGDClassifier(penalty='l1', \n",
    "                    alpha=.2,\n",
    "                    l1_ratio=1,\n",
    "                    shuffle=True,\n",
    "                    warm_start=True,\n",
    "                    learning_rate='optimal', \n",
    "                    tol=1e-6,\n",
    "                    max_iter=200,\n",
    "                    verbose=1)"
   ]
  },
  {
   "cell_type": "code",
   "execution_count": 76,
   "metadata": {
    "scrolled": true
   },
   "outputs": [
    {
     "name": "stdout",
     "output_type": "stream",
     "text": [
      "-- Epoch 1\n",
      "Norm: 1099.19, NNZs: 69, Bias: -0.084780, T: 63, Avg. loss: 8450.261111\n",
      "Total training time: 16.60 seconds.\n",
      "Accuracy: 93.75%\n",
      "-- Epoch 1\n",
      "Norm: 635.91, NNZs: 25, Bias: -0.116245, T: 63, Avg. loss: 3647.409367\n",
      "Total training time: 15.85 seconds.\n",
      "Accuracy: 100.0%\n",
      "-- Epoch 1\n",
      "Norm: 479.66, NNZs: 56, Bias: -0.117337, T: 63, Avg. loss: 2333.615045\n",
      "Total training time: 15.82 seconds.\n",
      "Accuracy: 87.5%\n",
      "-- Epoch 1\n",
      "Norm: 274.97, NNZs: 5, Bias: -0.152147, T: 63, Avg. loss: 0.102106\n",
      "Total training time: 13.21 seconds.\n",
      "Accuracy: 100.0%\n",
      "100% accuracy achieved with less than 10 nonzeros. Stopping after 3 epochs\n"
     ]
    }
   ],
   "source": [
    "for i in range(2000):\n",
    "    sgd.partial_fit(X_train, y_train, classes=np.unique(blood_types))\n",
    "    randomized = np.arange(X_train.shape[0])\n",
    "    np.random.shuffle(randomized)\n",
    "    X_train = X_train[randomized]\n",
    "    y_train = y_train[randomized]\n",
    "    y_pred = sgd.predict(X_test)\n",
    "    acc = accuracy_score(y_test, y_pred)\n",
    "    print(\"Accuracy: {}%\".format(acc * 100))\n",
    "    if acc == 1.0 and np.nonzero(sgd.coef_[0])[0].shape[0] <= 5:\n",
    "        print(\"100% accuracy achieved with less than 10 nonzeros. Stopping after {} epochs\".format(i))\n",
    "        break"
   ]
  },
  {
   "cell_type": "code",
   "execution_count": 77,
   "metadata": {
    "scrolled": true
   },
   "outputs": [
    {
     "name": "stdout",
     "output_type": "stream",
     "text": [
      "1.0\n"
     ]
    }
   ],
   "source": [
    "y_pred = sgd.predict(X_test)\n",
    "print(accuracy_score(y_test, y_pred))"
   ]
  },
  {
   "cell_type": "code",
   "execution_count": 78,
   "metadata": {},
   "outputs": [
    {
     "data": {
      "text/plain": [
       "array([11,  5])"
      ]
     },
     "execution_count": 78,
     "metadata": {},
     "output_type": "execute_result"
    }
   ],
   "source": [
    "np.bincount(y_test)"
   ]
  },
  {
   "cell_type": "code",
   "execution_count": 79,
   "metadata": {},
   "outputs": [
    {
     "name": "stdout",
     "output_type": "stream",
     "text": [
      "[(0, 0), (1, 1), (0, 0), (0, 0), (0, 0), (0, 0), (0, 0), (0, 0), (0, 0), (1, 1), (0, 0), (1, 1), (1, 1), (0, 0), (0, 0), (1, 1)]\n"
     ]
    }
   ],
   "source": [
    "print(zip(y_test, y_pred))"
   ]
  },
  {
   "cell_type": "code",
   "execution_count": 80,
   "metadata": {},
   "outputs": [
    {
     "name": "stdout",
     "output_type": "stream",
     "text": [
      "(14151619, 0.49851491684458876)\n",
      "(14151706, 0.3392241038972311)\n",
      "(14151629, 0.2841179224706821)\n",
      "(14151760, -0.14579304975023014)\n",
      "(14151618, -0.7066609728496123)\n"
     ]
    }
   ],
   "source": [
    "printCoefs(sgd)"
   ]
  },
  {
   "cell_type": "code",
   "execution_count": null,
   "metadata": {
    "collapsed": true
   },
   "outputs": [],
   "source": []
  }
 ],
 "metadata": {
  "kernelspec": {
   "display_name": "Python 2",
   "language": "python",
   "name": "python2"
  },
  "language_info": {
   "codemirror_mode": {
    "name": "ipython",
    "version": 2
   },
   "file_extension": ".py",
   "mimetype": "text/x-python",
   "name": "python",
   "nbconvert_exporter": "python",
   "pygments_lexer": "ipython2",
   "version": "2.7.12"
  }
 },
 "nbformat": 4,
 "nbformat_minor": 2
}
