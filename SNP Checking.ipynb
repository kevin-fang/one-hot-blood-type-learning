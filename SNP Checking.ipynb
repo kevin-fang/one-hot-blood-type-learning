{
 "cells": [
  {
   "cell_type": "code",
   "execution_count": 2,
   "metadata": {
    "collapsed": true
   },
   "outputs": [],
   "source": [
    "from pyliftover import LiftOver\n",
    "import re"
   ]
  },
  {
   "cell_type": "code",
   "execution_count": 3,
   "metadata": {
    "collapsed": true
   },
   "outputs": [],
   "source": [
    "lo = LiftOver('hg38', 'hg19')"
   ]
  },
  {
   "cell_type": "code",
   "execution_count": 21,
   "metadata": {
    "collapsed": true
   },
   "outputs": [],
   "source": [
    "li = LiftOver('hg19', 'hg38')"
   ]
  },
  {
   "cell_type": "code",
   "execution_count": 24,
   "metadata": {},
   "outputs": [
    {
     "data": {
      "text/plain": [
       "[]"
      ]
     },
     "execution_count": 24,
     "metadata": {},
     "output_type": "execute_result"
    }
   ],
   "source": [
    "li.convert_coordinate('chr9', 136142203)"
   ]
  },
  {
   "cell_type": "code",
   "execution_count": 4,
   "metadata": {
    "collapsed": true
   },
   "outputs": [],
   "source": [
    "good_res = [136139833, 136139955, 136139907]"
   ]
  },
  {
   "cell_type": "code",
   "execution_count": 5,
   "metadata": {
    "collapsed": true
   },
   "outputs": [],
   "source": [
    "snps = [133255670, 133255672, 133255801, 133255928, 133255929, 133255935, 133256028, 133256031, 133256074,133256085,133256205,133256233,133256264,]"
   ]
  },
  {
   "cell_type": "code",
   "execution_count": 6,
   "metadata": {
    "collapsed": true
   },
   "outputs": [],
   "source": [
    "def check(val):\n",
    "    data = lo.convert_coordinate('chr9', val)\n",
    "    if not len(data) == 0:\n",
    "        coords = data[0]\n",
    "        return coords[1]\n",
    "    return None"
   ]
  },
  {
   "cell_type": "code",
   "execution_count": 7,
   "metadata": {
    "collapsed": true
   },
   "outputs": [],
   "source": [
    "info = '''<tbody><tr data-row-number=\"16\" class=\"row-even\"><td class=\"smwtype_wpg\"><a href=\"/index.php/Rs56392308\" title=\"Rs56392308\">rs56392308</a></td><td></td><td data-sort-value=\"133255670\" class=\"Chromosome-position smwtype_num\">133,255,670</td><td></td></tr><tr data-row-number=\"37\" class=\"row-odd\"><td class=\"smwtype_wpg\"><a href=\"/index.php/Rs8176750\" title=\"Rs8176750\">rs8176750</a></td><td data-sort-value=\"0\" class=\"Max-Magnitude smwtype_num\">0</td><td data-sort-value=\"133255672\" class=\"Chromosome-position smwtype_num\">133,255,672</td><td></td></tr><tr data-row-number=\"36\" class=\"row-even\"><td class=\"smwtype_wpg\"><a href=\"/index.php/Rs8176749\" title=\"Rs8176749\">rs8176749</a></td><td data-sort-value=\"0\" class=\"Max-Magnitude smwtype_num\">0</td><td data-sort-value=\"133255801\" class=\"Chromosome-position smwtype_num\">133,255,801</td><td></td></tr><tr data-row-number=\"35\" class=\"row-odd\"><td class=\"smwtype_wpg\"><a href=\"/index.php/Rs8176747\" title=\"Rs8176747\">rs8176747</a></td><td data-sort-value=\"0\" class=\"Max-Magnitude smwtype_num\">0</td><td data-sort-value=\"133255928\" class=\"Chromosome-position smwtype_num\">133,255,928</td><td></td></tr><tr data-row-number=\"8\" class=\"row-even\"><td class=\"smwtype_wpg\"><a href=\"/index.php/Rs41302905\" title=\"Rs41302905\">rs41302905</a></td><td data-sort-value=\"0\" class=\"Max-Magnitude smwtype_num\">0</td><td data-sort-value=\"133255929\" class=\"Chromosome-position smwtype_num\">133,255,929</td><td></td></tr><tr data-row-number=\"34\" class=\"row-even\"><td class=\"smwtype_wpg\"><a href=\"/index.php/Rs8176746\" title=\"Rs8176746\">rs8176746</a></td><td data-sort-value=\"0\" class=\"Max-Magnitude smwtype_num\">0</td><td data-sort-value=\"133255935\" class=\"Chromosome-position smwtype_num\">133,255,935</td><td></td></tr><tr data-row-number=\"33\" class=\"row-odd\"><td class=\"smwtype_wpg\"><a href=\"/index.php/Rs8176743\" title=\"Rs8176743\">rs8176743</a></td><td data-sort-value=\"0\" class=\"Max-Magnitude smwtype_num\">0</td><td data-sort-value=\"133256028\" class=\"Chromosome-position smwtype_num\">133,256,028</td><td></td></tr><tr data-row-number=\"14\" class=\"row-even\"><td class=\"smwtype_wpg\"><a href=\"/index.php/Rs55722397\" title=\"Rs55722397\">rs55722397</a></td><td data-sort-value=\"0\" class=\"Max-Magnitude smwtype_num\">0</td><td data-sort-value=\"133256031\" class=\"Chromosome-position smwtype_num\">133,256,031</td><td></td></tr><tr data-row-number=\"32\" class=\"row-even\"><td class=\"smwtype_wpg\"><a href=\"/index.php/Rs8176741\" title=\"Rs8176741\">rs8176741</a></td><td></td><td data-sort-value=\"133256074\" class=\"Chromosome-position smwtype_num\">133,256,074</td><td></td></tr><tr data-row-number=\"31\" class=\"row-odd\"><td class=\"smwtype_wpg\"><a href=\"/index.php/Rs8176740\" title=\"Rs8176740\">rs8176740</a></td><td data-sort-value=\"0\" class=\"Max-Magnitude smwtype_num\">0</td><td data-sort-value=\"133256085\" class=\"Chromosome-position smwtype_num\">133,256,085</td><td></td></tr><tr data-row-number=\"25\" class=\"row-odd\"><td class=\"smwtype_wpg\"><a href=\"/index.php/Rs7853989\" title=\"Rs7853989\">rs7853989</a></td><td></td><td data-sort-value=\"133256205\" class=\"Chromosome-position smwtype_num\">133,256,205</td><td></td></tr><tr data-row-number=\"15\" class=\"row-odd\"><td class=\"smwtype_wpg\"><a href=\"/index.php/Rs55964869\" title=\"Rs55964869\">rs55964869</a></td><td data-sort-value=\"0\" class=\"Max-Magnitude smwtype_num\">0</td><td data-sort-value=\"133256233\" class=\"Chromosome-position smwtype_num\">133,256,233</td><td></td></tr><tr data-row-number=\"4\" class=\"row-even\"><td class=\"smwtype_wpg\"><a href=\"/index.php/Rs1053878\" title=\"Rs1053878\">rs1053878</a></td><td data-sort-value=\"0\" class=\"Max-Magnitude smwtype_num\">0</td><td data-sort-value=\"133256264\" class=\"Chromosome-position smwtype_num\">133,256,264</td><td></td></tr><tr data-row-number=\"5\" class=\"row-odd\"><td class=\"smwtype_wpg\"><a href=\"/index.php/Rs2073824\" title=\"Rs2073824\">rs2073824</a></td><td></td><td data-sort-value=\"133257246\" class=\"Chromosome-position smwtype_num\">133,257,246</td><td></td></tr><tr data-row-number=\"30\" class=\"row-even\"><td class=\"smwtype_wpg\"><a href=\"/index.php/Rs8176722\" title=\"Rs8176722\">rs8176722</a></td><td></td><td data-sort-value=\"133257367\" class=\"Chromosome-position smwtype_num\">133,257,367</td><td></td></tr><tr data-row-number=\"29\" class=\"row-odd\"><td class=\"smwtype_wpg\"><a href=\"/index.php/Rs8176720\" title=\"Rs8176720\">rs8176720</a></td><td></td><td data-sort-value=\"133257486\" class=\"Chromosome-position smwtype_num\">133,257,486</td><td></td></tr><tr data-row-number=\"28\" class=\"row-even\"><td class=\"smwtype_wpg\"><a href=\"/index.php/Rs8176719\" title=\"Rs8176719\">rs8176719</a></td><td></td><td data-sort-value=\"133257521\" class=\"Chromosome-position smwtype_num\">133,257,521</td><td></td></tr><tr data-row-number=\"12\" class=\"row-even\"><td class=\"smwtype_wpg\"><a href=\"/index.php/Rs512770\" title=\"Rs512770\">rs512770</a></td><td></td><td data-sort-value=\"133258116\" class=\"Chromosome-position smwtype_num\">133,258,116</td><td></td></tr><tr data-row-number=\"27\" class=\"row-odd\"><td class=\"smwtype_wpg\"><a href=\"/index.php/Rs8176704\" title=\"Rs8176704\">rs8176704</a></td><td></td><td data-sort-value=\"133260148\" class=\"Chromosome-position smwtype_num\">133,260,148</td><td></td></tr><tr data-row-number=\"17\" class=\"row-odd\"><td class=\"smwtype_wpg\"><a href=\"/index.php/Rs574347\" title=\"Rs574347\">rs574347</a></td><td></td><td data-sort-value=\"133260255\" class=\"Chromosome-position smwtype_num\">133,260,255</td><td></td></tr><tr data-row-number=\"24\" class=\"row-even\"><td class=\"smwtype_wpg\"><a href=\"/index.php/Rs687621\" title=\"Rs687621\">rs687621</a></td><td></td><td data-sort-value=\"133261662\" class=\"Chromosome-position smwtype_num\">133,261,662</td><td></td></tr><tr data-row-number=\"23\" class=\"row-odd\"><td class=\"smwtype_wpg\"><a href=\"/index.php/Rs687289\" title=\"Rs687289\">rs687289</a></td><td></td><td data-sort-value=\"133261703\" class=\"Chromosome-position smwtype_num\">133,261,703</td><td></td></tr><tr data-row-number=\"6\" class=\"row-even\"><td class=\"smwtype_wpg\"><a href=\"/index.php/Rs2073828\" title=\"Rs2073828\">rs2073828</a></td><td></td><td data-sort-value=\"133261737\" class=\"Chromosome-position smwtype_num\">133,261,737</td><td></td></tr><tr data-row-number=\"3\" class=\"row-odd\"><td class=\"smwtype_wpg\"><a href=\"/index.php/Rs1008708453\" title=\"Rs1008708453\">rs1008708453</a></td><td data-sort-value=\"2\" class=\"Max-Magnitude smwtype_num\">2</td><td data-sort-value=\"133262144\" class=\"Chromosome-position smwtype_num\">133,262,144</td><td></td></tr><tr data-row-number=\"26\" class=\"row-even\"><td class=\"smwtype_wpg\"><a href=\"/index.php/Rs8176694\" title=\"Rs8176694\">rs8176694</a></td><td></td><td data-sort-value=\"133262243\" class=\"Chromosome-position smwtype_num\">133,262,243</td><td></td></tr><tr data-row-number=\"22\" class=\"row-even\"><td class=\"smwtype_wpg\"><a href=\"/index.php/Rs657152\" title=\"Rs657152\">rs657152</a></td><td data-sort-value=\"2\" class=\"Max-Magnitude smwtype_num\">2</td><td data-sort-value=\"133263862\" class=\"Chromosome-position smwtype_num\">133,263,862</td><td></td></tr><tr data-row-number=\"7\" class=\"row-odd\"><td class=\"smwtype_wpg\"><a href=\"/index.php/Rs2519093\" title=\"Rs2519093\">rs2519093</a></td><td></td><td data-sort-value=\"133266456\" class=\"Chromosome-position smwtype_num\">133,266,456</td><td></td></tr><tr data-row-number=\"13\" class=\"row-odd\"><td class=\"smwtype_wpg\"><a href=\"/index.php/Rs514659\" title=\"Rs514659\">rs514659</a></td><td></td><td data-sort-value=\"133266790\" class=\"Chromosome-position smwtype_num\">133,266,790</td><td></td></tr><tr data-row-number=\"21\" class=\"row-odd\"><td class=\"smwtype_wpg\"><a href=\"/index.php/Rs644234\" title=\"Rs644234\">rs644234</a></td><td></td><td data-sort-value=\"133266804\" class=\"Chromosome-position smwtype_num\">133,266,804</td><td></td></tr><tr data-row-number=\"20\" class=\"row-even\"><td class=\"smwtype_wpg\"><a href=\"/index.php/Rs643434\" title=\"Rs643434\">rs643434</a></td><td></td><td data-sort-value=\"133266942\" class=\"Chromosome-position smwtype_num\">133,266,942</td><td></td></tr><tr data-row-number=\"18\" class=\"row-even\"><td class=\"smwtype_wpg\"><a href=\"/index.php/Rs612169\" title=\"Rs612169\">rs612169</a></td><td></td><td data-sort-value=\"133268030\" class=\"Chromosome-position smwtype_num\">133,268,030</td><td></td></tr><tr data-row-number=\"9\" class=\"row-odd\"><td class=\"smwtype_wpg\"><a href=\"/index.php/Rs500498\" title=\"Rs500498\">rs500498</a></td><td></td><td data-sort-value=\"133273232\" class=\"Chromosome-position smwtype_num\">133,273,232</td><td></td></tr><tr data-row-number=\"10\" class=\"row-even\"><td class=\"smwtype_wpg\"><a href=\"/index.php/Rs505922\" title=\"Rs505922\">rs505922</a></td><td data-sort-value=\"2.1\" class=\"Max-Magnitude smwtype_num\">2.1</td><td data-sort-value=\"133273813\" class=\"Chromosome-position smwtype_num\">133,273,813</td><td></td></tr><tr data-row-number=\"11\" class=\"row-odd\"><td class=\"smwtype_wpg\"><a href=\"/index.php/Rs507666\" title=\"Rs507666\">rs507666</a></td><td></td><td data-sort-value=\"133273983\" class=\"Chromosome-position smwtype_num\">133,273,983</td><td></td></tr><tr data-row-number=\"19\" class=\"row-odd\"><td class=\"smwtype_wpg\"><a href=\"/index.php/Rs630014\" title=\"Rs630014\">rs630014</a></td><td></td><td data-sort-value=\"133274306\" class=\"Chromosome-position smwtype_num\">133,274,306</td><td></td></tr><tr data-row-number=\"2\" class=\"row-even\"><td class=\"smwtype_wpg\"><a href=\"/index.php/I4000505\" title=\"I4000505\">i4000505</a></td><td></td><td data-sort-value=\"136131064\" class=\"Chromosome-position smwtype_num\">136,131,064</td><td></td></tr><tr data-row-number=\"1\" class=\"row-odd\"><td class=\"smwtype_wpg\"><a href=\"/index.php/I4000504\" title=\"I4000504\">i4000504</a></td><td></td><td data-sort-value=\"136131247\" class=\"Chromosome-position smwtype_num\">136,131,247</td><td></td></tr></tbody>'''"
   ]
  },
  {
   "cell_type": "code",
   "execution_count": 11,
   "metadata": {
    "collapsed": true
   },
   "outputs": [],
   "source": [
    "prog = r'(rs\\d+)<\\/a><\\/td><td><\\/td.<td data-sort-value=\"(\\d+)\"'"
   ]
  },
  {
   "cell_type": "code",
   "execution_count": 12,
   "metadata": {
    "collapsed": true
   },
   "outputs": [],
   "source": [
    "result = re.findall(prog, info)"
   ]
  },
  {
   "cell_type": "code",
   "execution_count": 27,
   "metadata": {
    "scrolled": true
   },
   "outputs": [
    {
     "name": "stdout",
     "output_type": "stream",
     "text": [
      " https://www.ncbi.nlm.nih.gov/snp/rs56392308 Ch38 pos: 133255670 Ch37 pos: 136131057\n",
      "https://www.ncbi.nlm.nih.gov/snp/rs8176741 Ch38 pos: 133256074 Ch37 pos: 136131461\n",
      "https://www.ncbi.nlm.nih.gov/snp/rs7853989 Ch38 pos: 133256205 Ch37 pos: 136131592\n",
      "https://www.ncbi.nlm.nih.gov/snp/rs2073824 Ch38 pos: 133257246 Ch37 pos: 136132633\n",
      "https://www.ncbi.nlm.nih.gov/snp/rs8176722 Ch38 pos: 133257367 Ch37 pos: 136132754\n",
      "https://www.ncbi.nlm.nih.gov/snp/rs8176720 Ch38 pos: 133257486 Ch37 pos: 136132873\n",
      "https://www.ncbi.nlm.nih.gov/snp/rs8176719 Ch38 pos: 133257521 Ch37 pos: 136132908\n",
      "https://www.ncbi.nlm.nih.gov/snp/rs512770 Ch38 pos: 133258116 Ch37 pos: 136133506\n",
      "https://www.ncbi.nlm.nih.gov/snp/rs8176704 Ch38 pos: 133260148 Ch37 pos: 136135552\n",
      "https://www.ncbi.nlm.nih.gov/snp/rs574347 Ch38 pos: 133260255 Ch37 pos: 136135659\n",
      "https://www.ncbi.nlm.nih.gov/snp/rs687621 Ch38 pos: 133261662 Ch37 pos: 136137065\n",
      "https://www.ncbi.nlm.nih.gov/snp/rs687289 Ch38 pos: 133261703 Ch37 pos: 136137106\n",
      "https://www.ncbi.nlm.nih.gov/snp/rs2073828 Ch38 pos: 133261737 Ch37 pos: 136137140\n",
      "https://www.ncbi.nlm.nih.gov/snp/rs8176694 Ch38 pos: 133262243 Ch37 pos: 136137646\n",
      "https://www.ncbi.nlm.nih.gov/snp/rs2519093 Ch38 pos: 133266456 Ch37 pos: 136141870\n",
      "https://www.ncbi.nlm.nih.gov/snp/rs514659 Ch38 pos: 133266790 Ch37 pos: None\n",
      "https://www.ncbi.nlm.nih.gov/snp/rs644234 Ch38 pos: 133266804 Ch37 pos: 136142217\n",
      "https://www.ncbi.nlm.nih.gov/snp/rs643434 Ch38 pos: 133266942 Ch37 pos: 136142355\n",
      "https://www.ncbi.nlm.nih.gov/snp/rs612169 Ch38 pos: 133268030 Ch37 pos: 136143442\n",
      "https://www.ncbi.nlm.nih.gov/snp/rs500498 Ch38 pos: 133273232 Ch37 pos: 136148647\n",
      "https://www.ncbi.nlm.nih.gov/snp/rs507666 Ch38 pos: 133273983 Ch37 pos: 136149399\n",
      "https://www.ncbi.nlm.nih.gov/snp/rs630014 Ch38 pos: 133274306 Ch37 pos: 136149722\n"
     ]
    }
   ],
   "source": [
    "for item in result:\n",
    "    print base_url + item[0], \"Ch38 pos: {}\".format(item[1]), \"Ch37 pos: {}\".format(check(int(item[1])))"
   ]
  },
  {
   "cell_type": "code",
   "execution_count": null,
   "metadata": {
    "collapsed": true
   },
   "outputs": [],
   "source": [
    "rs56392308: 136131059"
   ]
  }
 ],
 "metadata": {
  "kernelspec": {
   "display_name": "Python 2",
   "language": "python",
   "name": "python2"
  },
  "language_info": {
   "codemirror_mode": {
    "name": "ipython",
    "version": 2
   },
   "file_extension": ".py",
   "mimetype": "text/x-python",
   "name": "python",
   "nbconvert_exporter": "python",
   "pygments_lexer": "ipython2",
   "version": "2.7.12"
  }
 },
 "nbformat": 4,
 "nbformat_minor": 2
}
