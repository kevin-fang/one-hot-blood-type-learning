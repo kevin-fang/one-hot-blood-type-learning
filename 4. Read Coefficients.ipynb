{
 "cells": [
  {
   "cell_type": "code",
   "execution_count": 3,
   "metadata": {
    "collapsed": true
   },
   "outputs": [],
   "source": [
    "from sklearn.svm import LinearSVC\n",
    "from sklearn import preprocessing\n",
    "import numpy as np\n",
    "import pandas as pd\n",
    "from sklearn.model_selection import cross_val_score, train_test_split\n",
    "from sklearn.metrics import accuracy_score, confusion_matrix\n",
    "import matplotlib.pyplot as plt\n",
    "%matplotlib inline\n",
    "import collections\n",
    "import os\n",
    "import seaborn\n",
    "seaborn.set()\n",
    "from sklearn.externals import joblib"
   ]
  },
  {
   "cell_type": "code",
   "execution_count": 4,
   "metadata": {
    "collapsed": true
   },
   "outputs": [],
   "source": [
    "encoded = np.load('./npy_data/data_encoded_d.npy')\n",
    "varvals = np.load('./npy_data/varvals_d.npy')\n",
    "pathdataOH = np.load(\"./npy_data/path_data_oh_d.npy\")\n",
    "oldpath = np.load('./npy_data/old_path_d.npy')"
   ]
  },
  {
   "cell_type": "markdown",
   "metadata": {},
   "source": [
    "(14151619, 0.6760446973581204)\n",
    "(14151629, 0.38275127275728343)\n",
    "(14151706, 0.18751345661268898)\n",
    "(14151760, -0.01668997193021139)\n",
    "(14151725, -0.08194435912834398)\n",
    "(14151618, -0.6433367814469879)"
   ]
  },
  {
   "cell_type": "code",
   "execution_count": 5,
   "metadata": {
    "collapsed": true
   },
   "outputs": [],
   "source": [
    "sgd_el = joblib.load('./npy_data/sgd_el.pkl')"
   ]
  },
  {
   "cell_type": "code",
   "execution_count": 24,
   "metadata": {
    "scrolled": true
   },
   "outputs": [
    {
     "name": "stdout",
     "output_type": "stream",
     "text": [
      "(14151619, 0.4738850908986042)\n",
      "Old path:  12099719 Varval:  1.0\n",
      "(14151629, 0.29839267233162114)\n",
      "Old path:  12099731 Varval:  1.0\n",
      "(14151706, 0.28546882998985745)\n",
      "Old path:  12099783 Varval:  1.0\n",
      "(14151717, 0.07628014300941253)\n",
      "Old path:  12099785 Varval:  3.0\n",
      "(14151726, 0.07628014300941253)\n",
      "Old path:  12099789 Varval:  1.0\n",
      "(14151790, 0.00942448229535414)\n",
      "Old path:  12099833 Varval:  2.0\n",
      "(23428091, -0.0033133924618367313)\n",
      "Old path:  19850988 Varval:  0.0\n",
      "(2172641, -0.004068812548888826)\n",
      "Old path:  1856201 Varval:  1.0\n",
      "(672210, -0.0057361629238993316)\n",
      "Old path:  576064 Varval:  0.0\n",
      "(2951602, -0.008790558259495066)\n",
      "Old path:  2520878 Varval:  0.0\n",
      "(5815439, -0.012866311473481749)\n",
      "Old path:  5000741 Varval:  0.0\n",
      "(21481203, -0.023351146546680364)\n",
      "Old path:  18217819 Varval:  0.0\n",
      "(39427, -0.02421235748011162)\n",
      "Old path:  30461 Varval:  0.0\n",
      "(39479, -0.02421235748011162)\n",
      "Old path:  30494 Varval:  0.0\n",
      "(14151770, -0.04452715897346624)\n",
      "Old path:  12099829 Varval:  0.0\n",
      "(14151760, -0.04854806249924858)\n",
      "Old path:  12099821 Varval:  0.0\n",
      "(5815273, -0.1207113767067516)\n",
      "Old path:  5000590 Varval:  0.0\n",
      "(14151725, -0.15455996851896595)\n",
      "Old path:  12099789 Varval:  0.0\n",
      "(14151618, -0.47010591181939665)\n",
      "Old path:  12099719 Varval:  0.0\n"
     ]
    }
   ],
   "source": [
    "# retrieve all the nonzero coefficients and zip them with their respective indices\n",
    "nonzeroes = np.nonzero(sgd_el.coef_[0])[0]\n",
    "coefs = zip(nonzeroes, sgd_el.coef_[0][nonzeroes])\n",
    "\n",
    "# sort the coefficients by their value, instead of index\n",
    "coefs.sort(key = lambda x: x[1], reverse=True)\n",
    "\n",
    "paths = []\n",
    "for coef in coefs:\n",
    "    print coef\n",
    "    print \"Old path: \", oldpath[coef[0]], \"Varval: \", varvals[coef[0]] - 2\n",
    "    paths.append(oldpath[coef[0]])"
   ]
  },
  {
   "cell_type": "code",
   "execution_count": 21,
   "metadata": {},
   "outputs": [
    {
     "name": "stdout",
     "output_type": "stream",
     "text": [
      "[12099719 12099731 12099783 12099785 12099789 12099833 19850988  1856201\n",
      "   576064  2520878  5000741 18217819    30461    30494 12099829 12099821\n",
      "  5000590 12099789 12099719]\n"
     ]
    }
   ],
   "source": [
    "print(np.array(paths))"
   ]
  },
  {
   "cell_type": "code",
   "execution_count": 3,
   "metadata": {},
   "outputs": [
    {
     "data": {
      "text/plain": [
       "2.0"
      ]
     },
     "execution_count": 3,
     "metadata": {},
     "output_type": "execute_result"
    }
   ],
   "source": [
    "varvals[14151653]"
   ]
  },
  {
   "cell_type": "code",
   "execution_count": 5,
   "metadata": {},
   "outputs": [
    {
     "data": {
      "text/plain": [
       "3.0"
      ]
     },
     "execution_count": 5,
     "metadata": {},
     "output_type": "execute_result"
    }
   ],
   "source": [
    "varvals[14151660]"
   ]
  },
  {
   "cell_type": "code",
   "execution_count": 6,
   "metadata": {},
   "outputs": [
    {
     "data": {
      "text/plain": [
       "2.0"
      ]
     },
     "execution_count": 6,
     "metadata": {},
     "output_type": "execute_result"
    }
   ],
   "source": [
    "varvals[14151618]"
   ]
  },
  {
   "cell_type": "code",
   "execution_count": 9,
   "metadata": {
    "collapsed": true
   },
   "outputs": [],
   "source": [
    "idxs = [14151619, 14151629, 14151706, 14151760, 14151725, 14151618]"
   ]
  },
  {
   "cell_type": "code",
   "execution_count": 10,
   "metadata": {},
   "outputs": [
    {
     "data": {
      "text/plain": [
       "[(14151619, 3.0),\n",
       " (14151629, 3.0),\n",
       " (14151706, 3.0),\n",
       " (14151760, 2.0),\n",
       " (14151725, 2.0),\n",
       " (14151618, 2.0)]"
      ]
     },
     "execution_count": 10,
     "metadata": {},
     "output_type": "execute_result"
    }
   ],
   "source": [
    "zip(idxs, varvals[idxs])"
   ]
  },
  {
   "cell_type": "code",
   "execution_count": 4,
   "metadata": {},
   "outputs": [
    {
     "data": {
      "text/plain": [
       "12099719"
      ]
     },
     "execution_count": 4,
     "metadata": {},
     "output_type": "execute_result"
    }
   ],
   "source": [
    "oldpath[14151619]"
   ]
  },
  {
   "cell_type": "code",
   "execution_count": 5,
   "metadata": {
    "scrolled": true
   },
   "outputs": [
    {
     "data": {
      "text/plain": [
       "12099719"
      ]
     },
     "execution_count": 5,
     "metadata": {},
     "output_type": "execute_result"
    }
   ],
   "source": [
    "oldpath[14151618]"
   ]
  },
  {
   "cell_type": "code",
   "execution_count": 4,
   "metadata": {},
   "outputs": [
    {
     "data": {
      "text/plain": [
       "12099749"
      ]
     },
     "execution_count": 4,
     "metadata": {},
     "output_type": "execute_result"
    }
   ],
   "source": [
    "oldpath[14151653]"
   ]
  },
  {
   "cell_type": "code",
   "execution_count": 6,
   "metadata": {},
   "outputs": [
    {
     "data": {
      "text/plain": [
       "12099751"
      ]
     },
     "execution_count": 6,
     "metadata": {},
     "output_type": "execute_result"
    }
   ],
   "source": [
    "oldpath[14151660]"
   ]
  }
 ],
 "metadata": {
  "kernelspec": {
   "display_name": "Python 2",
   "language": "python",
   "name": "python2"
  },
  "language_info": {
   "codemirror_mode": {
    "name": "ipython",
    "version": 2
   },
   "file_extension": ".py",
   "mimetype": "text/x-python",
   "name": "python",
   "nbconvert_exporter": "python",
   "pygments_lexer": "ipython2",
   "version": "2.7.12"
  }
 },
 "nbformat": 4,
 "nbformat_minor": 2
}
