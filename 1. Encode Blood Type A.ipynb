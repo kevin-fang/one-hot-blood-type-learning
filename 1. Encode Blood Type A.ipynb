{
 "cells": [
  {
   "cell_type": "code",
   "execution_count": 1,
   "metadata": {
    "collapsed": true
   },
   "outputs": [],
   "source": [
    "%matplotlib inline\n",
    "import matplotlib.pyplot as plt\n",
    "from mpl_toolkits.mplot3d import Axes3D\n",
    "import pandas as pd\n",
    "import numpy as np\n",
    "import sqlite3\n",
    "from sklearn import svm\n",
    "from sklearn.model_selection import cross_val_score, LeaveOneOut, train_test_split\n",
    "from sklearn import preprocessing\n",
    "from sklearn.metrics import confusion_matrix, accuracy_score\n",
    "import seaborn as sns\n",
    "import os\n",
    "sns.set()"
   ]
  },
  {
   "cell_type": "code",
   "execution_count": 2,
   "metadata": {
    "collapsed": true
   },
   "outputs": [],
   "source": [
    "# load data from untap\n",
    "conn = sqlite3.connect('/home/kfang/one_hot_blood_type/untap.db')\n",
    "c = conn.cursor()\n",
    "c.execute('SELECT * FROM demographics')\n",
    "rows = c.fetchall()\n",
    "colnames = [i[0] for i in c.description]\n",
    "data = pd.DataFrame(rows, columns=colnames)\n",
    "conn.close()"
   ]
  },
  {
   "cell_type": "code",
   "execution_count": 3,
   "metadata": {
    "collapsed": true
   },
   "outputs": [],
   "source": [
    "dataBloodType = data[['human_id', 'blood_type']]\n",
    "dataBloodType = dataBloodType.replace('', np.nan, inplace=False)\n",
    "dataBloodType = dataBloodType.dropna(axis=0, how='any', inplace=False)\n",
    "\n",
    "# Creating dummy variables for A, B and rh factor\n",
    "dataBloodType['A'] = dataBloodType['blood_type'].str.contains('A',na=False).astype(int)\n",
    "dataBloodType['B'] = dataBloodType['blood_type'].str.contains('B',na=False).astype(int)\n",
    "dataBloodType['Rh'] = dataBloodType['blood_type'].str.contains('\\+',na=False).astype(int)"
   ]
  },
  {
   "cell_type": "code",
   "execution_count": 4,
   "metadata": {
    "scrolled": true
   },
   "outputs": [
    {
     "data": {
      "text/plain": [
       "<matplotlib.axes._subplots.AxesSubplot at 0x7fcb53b6d3d0>"
      ]
     },
     "execution_count": 4,
     "metadata": {},
     "output_type": "execute_result"
    },
    {
     "data": {
      "image/png": "[encoded data removed]",
      "text/plain": [
       "<matplotlib.figure.Figure at 0x7fcba8a64e10>"
      ]
     },
     "metadata": {},
     "output_type": "display_data"
    }
   ],
   "source": [
    "dataBloodType['blood_type'].value_counts().plot(kind='bar')"
   ]
  },
  {
   "cell_type": "code",
   "execution_count": 5,
   "metadata": {
    "collapsed": true
   },
   "outputs": [],
   "source": [
    "# function to retrieve a tile file from keep\n",
    "tiled_data_dir = \"/home/kfang/keep/by_id/su92l-4zz18-b8rs5x7t6gry16k/\"\n",
    "def get_file(name, np_file = True):\n",
    "    if np_file: \n",
    "        return np.load(os.path.join(tiled_data_dir, name))\n",
    "    else:\n",
    "        return open(os.path.join(tiled_data_dir, name), 'r')"
   ]
  },
  {
   "cell_type": "code",
   "execution_count": 6,
   "metadata": {
    "collapsed": true
   },
   "outputs": [],
   "source": [
    "Xtrain = np.load('./all.npy')\n",
    "path_data = np.load('./all-info.npy')"
   ]
  },
  {
   "cell_type": "code",
   "execution_count": 7,
   "metadata": {
    "collapsed": true
   },
   "outputs": [],
   "source": [
    "Xtrain += 2"
   ]
  },
  {
   "cell_type": "code",
   "execution_count": 8,
   "metadata": {
    "collapsed": true
   },
   "outputs": [],
   "source": [
    "names_file = get_file(\"names.npy\", np_file = False)\n",
    "names = []\n",
    "for line in names_file:\n",
    "    names.append(line[45:54][:-1])"
   ]
  },
  {
   "cell_type": "code",
   "execution_count": 9,
   "metadata": {
    "collapsed": true
   },
   "outputs": [],
   "source": [
    "# Getting phenotypes for huIDs that have associated genotypes\n",
    "\n",
    "results = [i.lower() for i in names]\n",
    "\n",
    "df = pd.DataFrame(results,columns={'Sample'})\n",
    "df['Number'] = df.index"
   ]
  },
  {
   "cell_type": "code",
   "execution_count": 10,
   "metadata": {
    "collapsed": true
   },
   "outputs": [],
   "source": [
    "dataBloodType = data[['human_id', 'blood_type']]\n",
    "dataBloodType = dataBloodType.replace('', np.nan, inplace=False)\n",
    "dataBloodType = dataBloodType.dropna(axis=0, how='any', inplace=False)\n",
    "\n",
    "# Creating dummy variables for A, B and rh factor\n",
    "dataBloodType['A'] = dataBloodType['blood_type'].str.contains('A',na=False).astype(int)\n",
    "dataBloodType['B'] = dataBloodType['blood_type'].str.contains('B',na=False).astype(int)\n",
    "dataBloodType['Rh'] = dataBloodType['blood_type'].str.contains('\\+',na=False).astype(int)"
   ]
  },
  {
   "cell_type": "code",
   "execution_count": 11,
   "metadata": {
    "collapsed": true
   },
   "outputs": [],
   "source": [
    "dataBloodType.human_id = dataBloodType.human_id.str.lower()\n",
    "df2 = df.merge(dataBloodType,left_on = 'Sample', right_on='human_id', how='inner')\n",
    "del dataBloodType\n",
    "#df2"
   ]
  },
  {
   "cell_type": "code",
   "execution_count": 12,
   "metadata": {},
   "outputs": [
    {
     "data": {
      "text/plain": [
       "<matplotlib.axes._subplots.AxesSubplot at 0x7fcba8a64dd0>"
      ]
     },
     "execution_count": 12,
     "metadata": {},
     "output_type": "execute_result"
    },
    {
     "data": {
      "image/png": "[encoded data removed]",
      "text/plain": [
       "<matplotlib.figure.Figure at 0x7fcb51ac5390>"
      ]
     },
     "metadata": {},
     "output_type": "display_data"
    }
   ],
   "source": [
    "df2['blood_type'].value_counts().plot(kind='bar')"
   ]
  },
  {
   "cell_type": "code",
   "execution_count": 13,
   "metadata": {
    "collapsed": true
   },
   "outputs": [],
   "source": [
    "df2['blood_type'].value_counts()\n",
    "del df"
   ]
  },
  {
   "cell_type": "code",
   "execution_count": 14,
   "metadata": {},
   "outputs": [
    {
     "data": {
      "text/plain": [
       "(79, 21310012)"
      ]
     },
     "execution_count": 14,
     "metadata": {},
     "output_type": "execute_result"
    }
   ],
   "source": [
    "# Get genotypes that have associated blood type phenotype\n",
    "idx = df2['Number'].values\n",
    "\n",
    "Xtrain = Xtrain[idx,:] \n",
    "Xtrain.shape"
   ]
  },
  {
   "cell_type": "code",
   "execution_count": 15,
   "metadata": {},
   "outputs": [
    {
     "data": {
      "text/plain": [
       "(79, 18519161)"
      ]
     },
     "execution_count": 15,
     "metadata": {},
     "output_type": "execute_result"
    }
   ],
   "source": [
    "# Remove tiles (columns) that don't have more than 1 tile varient at every position\n",
    "# Actually probably will want to technically do this before the one-hot, so I am keeping these in for the moment\n",
    "\n",
    "min_indicator = np.amin(Xtrain, axis=0)\n",
    "max_indicator = np.amax(Xtrain, axis=0)\n",
    "\n",
    "sameTile = min_indicator == max_indicator\n",
    "skipTile = ~sameTile\n",
    "\n",
    "idxOP = np.arange(Xtrain.shape[1])\n",
    "Xtrain = Xtrain[:, skipTile]\n",
    "newPaths = path_data[skipTile]\n",
    "idxOP = idxOP[skipTile]\n",
    "\n",
    "Xtrain.shape"
   ]
  },
  {
   "cell_type": "code",
   "execution_count": 16,
   "metadata": {
    "collapsed": true
   },
   "outputs": [],
   "source": [
    "# only keep data with less than 10% missing data\n",
    "nnz = np.count_nonzero(Xtrain, axis=0)\n",
    "fracnnz = np.divide(nnz.astype(float), Xtrain.shape[0])\n",
    "\n",
    "idxKeep = fracnnz >= 0.9\n",
    "Xtrain = Xtrain[:, idxKeep]"
   ]
  },
  {
   "cell_type": "code",
   "execution_count": 17,
   "metadata": {
    "collapsed": true
   },
   "outputs": [],
   "source": [
    "y = df2.A.values"
   ]
  },
  {
   "cell_type": "code",
   "execution_count": 18,
   "metadata": {},
   "outputs": [
    {
     "name": "stdout",
     "output_type": "stream",
     "text": [
      "(36399562,)\n"
     ]
    }
   ],
   "source": [
    "# save information about deleting missing/spanning data\n",
    "varvals = np.full(50 * Xtrain.shape[1], np.nan)\n",
    "nx = 0\n",
    "\n",
    "varlist = []\n",
    "for j in range(0, Xtrain.shape[1]):\n",
    "    u = np.unique(Xtrain[:,j])\n",
    "    varvals[nx : nx + u.size] = u\n",
    "    nx = nx + u.size\n",
    "    varlist.append(u)\n",
    "\n",
    "varvals = varvals[~np.isnan(varvals)]\n",
    "\n",
    "print(varvals.shape)\n",
    "np.save(\"./npy_data/varvals.npy\", varvals)"
   ]
  },
  {
   "cell_type": "code",
   "execution_count": 19,
   "metadata": {
    "collapsed": true
   },
   "outputs": [],
   "source": [
    "def foo(col):\n",
    "    u = np.unique(col)\n",
    "    nunq = u.shape\n",
    "    return nunq\n",
    "\n",
    "invals = np.apply_along_axis(foo, 0, Xtrain)\n",
    "invals = invals[0]"
   ]
  },
  {
   "cell_type": "code",
   "execution_count": 20,
   "metadata": {},
   "outputs": [],
   "source": [
    "# used later to find coefPaths\n",
    "pathdataOH = np.repeat(newPaths[idxKeep], invals)\n",
    "# used later to find the original location of the path from non one hot\n",
    "oldpath = np.repeat(idxOP[idxKeep], invals)"
   ]
  },
  {
   "cell_type": "code",
   "execution_count": 21,
   "metadata": {
    "collapsed": true
   },
   "outputs": [],
   "source": [
    "np.save(\"./npy_data/idx_keep.npy\", idxKeep)\n",
    "np.save(\"./npy_data/path_data_oh.npy\", pathdataOH)\n",
    "np.save(\"./npy_data/old_path.npy\", oldpath)"
   ]
  },
  {
   "cell_type": "code",
   "execution_count": 22,
   "metadata": {
    "collapsed": true
   },
   "outputs": [],
   "source": [
    "np.save(\"./npy_data/train_data.npy\", Xtrain)"
   ]
  },
  {
   "cell_type": "code",
   "execution_count": 23,
   "metadata": {
    "collapsed": true
   },
   "outputs": [],
   "source": [
    "np.save(\"./npy_data/blood_types.npy\", y)"
   ]
  },
  {
   "cell_type": "code",
   "execution_count": 24,
   "metadata": {
    "collapsed": true
   },
   "outputs": [],
   "source": [
    "np.save('./npy_data/path_data.npy', newPaths)"
   ]
  },
  {
   "cell_type": "code",
   "execution_count": 26,
   "metadata": {
    "scrolled": true
   },
   "outputs": [
    {
     "name": "stdout",
     "output_type": "stream",
     "text": [
      "2018-08-13 15:25:30 cwltool INFO: /usr/bin/arvados-cwl-runner 1.1.4, arvados-python-client 1.1.4, cwltool 1.0.20180403145700\n",
      "2018-08-13 15:25:30 cwltool INFO: Resolved 'encode.cwl' to 'file:///data-sdc/kfang/one_hot_blood_type/encode.cwl'\n",
      "2018-08-13 15:25:32 arvados.arv-run INFO: Upload local files: \"just_encode.py\" \"npy_data/train_data.npy\"\n",
      "2018-08-13 15:26:16 arvados.arv-run INFO: Using collection 0e4cda6b136d9e3d1069a8b756ad3445+2618 (su92l-4zz18-98of6jk47evbwbb)\n",
      "2018-08-13 15:26:44 arvados.cwl-runner INFO: [container Encode Blood Types] su92l-xvhdp-8hmy113y2nel9h3 state is Committed\n",
      "2018-08-13 15:39:45 arvados.cwl-runner INFO: [container Encode Blood Types] su92l-xvhdp-8hmy113y2nel9h3 is Final\n",
      "2018-08-13 15:39:45 arvados.cwl-runner INFO: Overall process status is success\n",
      "2018-08-13 15:39:45 arvados.cwl-runner INFO: Final output collection bfaea5e13d6750e5e30e62dbd91b7593+14520 \"Output of encode.cwl\" (su92l-4zz18-9b5lg7tckuax1gb)\n",
      "{\n",
      "    \"enc_out\": {\n",
      "        \"basename\": \"encode_output.txt\", \n",
      "        \"location\": \"keep:bfaea5e13d6750e5e30e62dbd91b7593+14520/encode_output.txt\", \n",
      "        \"class\": \"File\", \n",
      "        \"size\": 83\n",
      "    }, \n",
      "    \"out2\": [\n",
      "        {\n",
      "            \"basename\": \"encoded.npy\", \n",
      "            \"location\": \"keep:bfaea5e13d6750e5e30e62dbd91b7593+14520/encoded.npy\", \n",
      "            \"class\": \"File\", \n",
      "            \"size\": 23004523312\n",
      "        }\n",
      "    ]\n",
      "}\n",
      "2018-08-13 15:39:46 cwltool INFO: Final process status is success\n"
     ]
    }
   ],
   "source": [
    "# a Jupyter thing to send the encoding to Arvados via CWL.\n",
    "!arvados-cwl-runner --name \"Encode Blood Types\" --api containers  encode.cwl --arr npy_data/train_data.npy --script just_encode.py"
   ]
  },
  {
   "cell_type": "code",
   "execution_count": 29,
   "metadata": {},
   "outputs": [
    {
     "name": "stdout",
     "output_type": "stream",
     "text": [
      "rm: cannot remove 'npy_data/encoded.npy': No such file or directory\n",
      "21938 MiB / 21938 MiB 100.0%\n"
     ]
    }
   ],
   "source": [
    "!rm npy_data/encoded.npy\n",
    "!arv-get bfaea5e13d6750e5e30e62dbd91b7593+14520/encoded.npy npy_data/encoded.npy"
   ]
  },
  {
   "cell_type": "code",
   "execution_count": null,
   "metadata": {
    "collapsed": true
   },
   "outputs": [],
   "source": []
  }
 ],
 "metadata": {
  "kernelspec": {
   "display_name": "Python 2",
   "language": "python",
   "name": "python2"
  },
  "language_info": {
   "codemirror_mode": {
    "name": "ipython",
    "version": 2
   },
   "file_extension": ".py",
   "mimetype": "text/x-python",
   "name": "python",
   "nbconvert_exporter": "python",
   "pygments_lexer": "ipython2",
   "version": "2.7.12"
  }
 },
 "nbformat": 4,
 "nbformat_minor": 2
}
